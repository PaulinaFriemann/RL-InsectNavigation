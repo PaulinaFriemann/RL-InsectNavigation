{
 "cells": [
  {
   "cell_type": "code",
   "execution_count": 66,
   "metadata": {},
   "outputs": [],
   "source": [
    "import numpy as np\n",
    "import sys\n",
    "np.set_printoptions(threshold=sys.maxsize)\n",
    "import itertools as it\n",
    "\n",
    "experiment = \"Wystrach2020\"\n",
    "condition = \"no-trap\"\n",
    "rewards = [1, 10, 50, 100]\n",
    "winds = [0.0, 0.25, 0.5]\n",
    "trapcosts = [-1, -10, -50, -100]\n",
    "\n",
    "aps = []\n",
    "groundrs = []\n",
    "for reward, trapc, wind in it.product(rewards, trapcosts, winds):\n",
    "    dir_ = f\"../../irl/{experiment}/{condition}/{reward}/{trapc}/{wind}\"\n",
    "\n",
    "    try:\n",
    "        action_probs = np.load(f\"{dir_}/results/action_probs.npy\",)\n",
    "        aps.append(action_probs)\n",
    "        ground_r = np.load(f\"{dir_}/results/ground_r.npy\")\n",
    "        ground_r = np.where(ground_r == reward, 1, ground_r)\n",
    "        ground_r = np.where(ground_r == trapc, -1, ground_r)\n",
    "\n",
    "        groundrs.append(ground_r)\n",
    "    except:\n",
    "        print(f\"{dir_} not yet there\")\n"
   ]
  },
  {
   "cell_type": "code",
   "execution_count": 62,
   "metadata": {},
   "outputs": [
    {
     "name": "stdout",
     "output_type": "stream",
     "text": [
      "Counter({0: 1309, 1: 50, -1: 21})\n",
      "39\n",
      "Counter({True: 39})\n"
     ]
    },
    {
     "data": {
      "text/plain": [
       "True"
      ]
     },
     "execution_count": 62,
     "metadata": {},
     "output_type": "execute_result"
    }
   ],
   "source": [
    "from collections import Counter\n",
    "print(Counter(list(groundrs[0])))\n",
    "print(len(groundrs))\n",
    "\n",
    "print(Counter([np.array_equal(groundrs[0], arr) for arr in groundrs]))\n",
    "all([np.array_equal(groundrs[0], arr) for arr in groundrs])"
   ]
  },
  {
   "cell_type": "code",
   "execution_count": null,
   "metadata": {},
   "outputs": [],
   "source": []
  },
  {
   "cell_type": "code",
   "execution_count": 63,
   "metadata": {},
   "outputs": [
    {
     "name": "stdout",
     "output_type": "stream",
     "text": [
      "Counter({True: 39})\n"
     ]
    },
    {
     "data": {
      "text/plain": [
       "True"
      ]
     },
     "execution_count": 63,
     "metadata": {},
     "output_type": "execute_result"
    }
   ],
   "source": [
    "print(Counter([np.array_equal(aps[0], arr) for arr in aps]))\n",
    "all([np.array_equal(aps[0], arr) for arr in aps])"
   ]
  },
  {
   "cell_type": "code",
   "execution_count": 67,
   "metadata": {},
   "outputs": [
    {
     "data": {
      "text/plain": [
       "<matplotlib.image.AxesImage at 0x7efc8c785d50>"
      ]
     },
     "execution_count": 67,
     "metadata": {},
     "output_type": "execute_result"
    },
    {
     "data": {
      "image/png": "[encoded data removed]",
      "text/plain": [
       "<Figure size 432x288 with 1 Axes>"
      ]
     },
     "metadata": {
      "needs_background": "light"
     },
     "output_type": "display_data"
    }
   ],
   "source": [
    "import matplotlib.pyplot as plt\n",
    "width= 23 # Melaphorus bagoti: minX -.565 maxX 1.62\n",
    "height= 60 # M. bagoti: minY -.179 maxY 5.768\n",
    "\n",
    "groundr = np.reshape(groundrs[0], (height, width))\n",
    "plt.imshow(groundr)"
   ]
  },
  {
   "cell_type": "code",
   "execution_count": 87,
   "metadata": {},
   "outputs": [
    {
     "name": "stdout",
     "output_type": "stream",
     "text": [
      "[[0. 0. 0. 0. 0. 0. 0. 0. 0.]\n",
      " [0. 0. 0. 0. 0. 0. 0. 0. 0.]\n",
      " [0. 0. 0. 0. 0. 0. 0. 0. 0.]\n",
      " [0. 0. 1. 0. 0. 0. 0. 0. 0.]\n",
      " [0. 0. 0. 0. 0. 0. 0. 0. 0.]]\n",
      "9.000000000000001e-09\n",
      "[[0.11111111 0.11111111 0.11111111 0.11111111 0.11111111 0.11111111\n",
      "  0.11111111 0.11111111 0.11111111]\n",
      " [0.11111111 0.11111111 0.11111111 0.11111111 0.11111111 0.11111111\n",
      "  0.11111111 0.11111111 0.11111111]\n",
      " [0.11111111 0.11111111 0.11111111 0.11111111 0.11111111 0.11111111\n",
      "  0.11111111 0.11111111 0.11111111]\n",
      " [0.         0.         1.         0.         0.         0.\n",
      "  0.         0.         0.        ]\n",
      " [0.11111111 0.11111111 0.11111111 0.11111111 0.11111111 0.11111111\n",
      "  0.11111111 0.11111111 0.11111111]]\n"
     ]
    }
   ],
   "source": [
    "import pandas as pd\n",
    "df = pd.read_csv(f\"../../irl/{experiment}/{condition}/data.csv\")\n",
    "\n",
    "df[\"reward\"] = 0\n",
    "by_ant_trial = df.groupby([\"ant_nb\", \"trial_nb\"], sort=False)\n",
    "trajectories = []\n",
    "for _, frame in by_ant_trial:\n",
    "    trajectories.append(frame[[\"state_int\", \"action_int\", \"reward\", \"next_state_int\"]].to_numpy())\n",
    "\n",
    "nS = aps[0].shape[0]\n",
    "nA = aps[0].shape[1]\n",
    "action_probabilities = np.zeros((nS, nA))\n",
    "for traj in trajectories:\n",
    "    for (s, a, _, _) in traj:\n",
    "        action_probabilities[s][a] += 1\n",
    "print(action_probabilities[:5])\n",
    "action_probabilities[action_probabilities.sum(axis=1) == 0] = 1e-5\n",
    "print(sum(action_probabilities[:5][0]))\n",
    "\n",
    "action_probabilities /= action_probabilities.sum(axis=1).reshape(nS, 1)\n",
    "print(action_probabilities[:5])\n"
   ]
  },
  {
   "cell_type": "code",
   "execution_count": 75,
   "metadata": {},
   "outputs": [
    {
     "data": {
      "text/plain": [
       "True"
      ]
     },
     "execution_count": 75,
     "metadata": {},
     "output_type": "execute_result"
    }
   ],
   "source": [
    "(action_probabilities == aps[0]).all()"
   ]
  }
 ],
 "metadata": {
  "kernelspec": {
   "display_name": "snakemake",
   "language": "python",
   "name": "snakemake"
  },
  "language_info": {
   "codemirror_mode": {
    "name": "ipython",
    "version": 3
   },
   "file_extension": ".py",
   "mimetype": "text/x-python",
   "name": "python",
   "nbconvert_exporter": "python",
   "pygments_lexer": "ipython3",
   "version": "3.10.4"
  },
  "orig_nbformat": 4
 },
 "nbformat": 4,
 "nbformat_minor": 2
}
