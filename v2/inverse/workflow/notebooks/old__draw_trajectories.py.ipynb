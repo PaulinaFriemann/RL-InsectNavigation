{
 "cells": [
  {
   "cell_type": "code",
   "execution_count": 2,
   "id": "773e1219",
   "metadata": {},
   "outputs": [],
   "source": [
    "import pandas as pd\n",
    "import numpy as np\n",
    "import matplotlib.pyplot as plt\n",
    "import seaborn as sns\n",
    "from scipy import interpolate\n",
    "\n",
    "\n",
    "width = 30 # snakemake.config[\"width\"]\n",
    "height = 60 # snakemake.config[\"height\"]\n",
    "scale = 1"
   ]
  },
  {
   "cell_type": "code",
   "execution_count": 3,
   "id": "bd1ac344",
   "metadata": {},
   "outputs": [],
   "source": [
    "def draw_trajectory(df, ax):\n",
    "    x = df.path_x / scale\n",
    "    y = df.path_y / scale\n",
    "    ax.plot(x, y, alpha=0.75)"
   ]
  },
  {
   "cell_type": "code",
   "execution_count": 4,
   "id": "f038c68b",
   "metadata": {},
   "outputs": [],
   "source": [
    "def _df_interpolate(df, max_=5):\n",
    "    def per_df(d):\n",
    "        x = np.array(d['path_x'])\n",
    "        y = np.array(d['path_y'])\n",
    "\n",
    "        # remove two consecutive equal points for interpolation\n",
    "        okay = np.where(np.abs(np.diff(x)) + np.abs(np.diff(y)) > 0)\n",
    "        x = np.r_[x[okay], x[-1]]\n",
    "        y = np.r_[y[okay], y[-1]]\n",
    "\n",
    "        tck,u=interpolate.splprep([x,y],s=0.0)\n",
    "        x_i,y_i= interpolate.splev(np.linspace(0,1,(len(x)*10)),tck)\n",
    "\n",
    "        new_rows = d.iloc[-1].to_dict()\n",
    "        new_rows.update({'path_x' : x_i, 'path_y': y_i})\n",
    "        return pd.DataFrame(new_rows)\n",
    "    dfs = []\n",
    "    agents = set(df[\"ant_nb\"])\n",
    "    trials = set(df[\"trial_nb\"])\n",
    "    if len(trials) > max_:\n",
    "        trials = [arr[0] for arr in np.array_split(list(trials), max_)]\n",
    "    #print(np.array_split(list(trials), max_))\n",
    "    for agent in agents:\n",
    "        for trial in trials:\n",
    "            #print(\"tr\", trial)\n",
    "            #print(df[(df[\"ant_nb\"]==agent) & (df[\"trial_nb\"]==trial)])\n",
    "            dfs.append(per_df(df[(df[\"ant_nb\"]==agent) & (df[\"trial_nb\"]==trial)]))\n",
    "    return pd.concat(dfs, ignore_index=True)\n"
   ]
  },
  {
   "cell_type": "code",
   "execution_count": 5,
   "id": "3c0ffd84",
   "metadata": {},
   "outputs": [],
   "source": [
    "df = pd.read_csv(\"trap_interpolated.csv\")\n",
    "df_raw = pd.read_csv(\"trap.csv\")"
   ]
  },
  {
   "cell_type": "code",
   "execution_count": 8,
   "id": "70ffb21a",
   "metadata": {},
   "outputs": [],
   "source": [
    "fig, ax = plt.subplots(1, 1, figsize=(10 ,10))\n",
    "\n",
    "#example_run = df[(df.ant_nb == 32) & (df.trial_nb == 1)]\n",
    "for ant in [32]:#pd.unique(df[\"ant_nb\"]):\n",
    "    ant_df = df[df.ant_nb == ant]\n",
    "\n",
    "    for run in pd.unique(ant_df[\"trial_nb\"]):\n",
    "\n",
    "        traj = ant_df[ant_df.trial_nb == run]\n",
    "        draw_trajectory(traj, ax)\n"
   ]
  },
  {
   "cell_type": "code",
   "execution_count": 9,
   "id": "d54df261",
   "metadata": {},
   "outputs": [],
   "source": [
    "fig, ax = plt.subplots(1, 1, figsize=(10 ,10))\n",
    "\n",
    "#example_run = df[(df.ant_nb == 32) & (df.trial_nb == 1)]\n",
    "for ant in [32]:#pd.unique(df[\"ant_nb\"]):\n",
    "    ant_df = df[df.ant_nb == ant]\n",
    "\n",
    "    for run in pd.unique(ant_df[\"trial_nb\"]):\n",
    "\n",
    "        traj = ant_df[ant_df.trial_nb == run]\n",
    "        draw_trajectory(_df_interpolate(traj), ax)"
   ]
  },
  {
   "cell_type": "code",
   "execution_count": 37,
   "id": "7abb46ee",
   "metadata": {},
   "outputs": [],
   "source": [
    "\n",
    "for ant in [32]:#pd.unique(df[\"ant_nb\"]):\n",
    "    ant_df = df[df.ant_nb == ant]\n",
    "\n",
    "    for run in pd.unique(ant_df[\"trial_nb\"]):\n",
    "        fig, ax = plt.subplots(1, 1, figsize=(10 ,10))\n",
    "\n",
    "        traj = ant_df[ant_df.trial_nb == run]\n",
    "        traj.plot(x=\"path_x\", y=\"path_y\", ax=ax)        \n",
    "        traj.rolling(10).mean().plot(x=\"path_x\", y=\"path_y\", ax=ax)\n",
    "\n",
    "# make heatmap?\n"
   ]
  },
  {
   "cell_type": "raw",
   "id": "7a69ab53",
   "metadata": {},
   "source": [
    "for ant in [32]:#pd.unique(df[\"ant_nb\"]):\n",
    "    ant_df = df_raw[df_raw.ant_nb == ant]\n",
    "\n",
    "    for run in pd.unique(ant_df[\"trial_nb\"]):\n",
    "        fig, ax = plt.subplots(1, 1, figsize=(10 ,10))\n",
    "\n",
    "        traj = ant_df[ant_df.trial_nb == run]\n",
    "        traj.plot(x=\"path_x\", y=\"path_y\", ax=ax)        \n",
    "        traj.rolling(10).mean().plot(x=\"path_x\", y=\"path_y\", ax=ax)\n"
   ]
  }
 ],
 "metadata": {
  "kernelspec": {
   "display_name": "Python 3 (ipykernel)",
   "language": "python",
   "name": "python3"
  },
  "language_info": {
   "codemirror_mode": {
    "name": "ipython",
    "version": 3
   },
   "file_extension": ".py",
   "mimetype": "text/x-python",
   "name": "python",
   "nbconvert_exporter": "python",
   "pygments_lexer": "ipython3",
   "version": "3.10.4"
  }
 },
 "nbformat": 4,
 "nbformat_minor": 5
}
