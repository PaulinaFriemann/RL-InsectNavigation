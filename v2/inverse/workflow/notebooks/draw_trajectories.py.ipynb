{
 "cells": [
  {
   "cell_type": "code",
   "execution_count": 2,
   "id": "a8a9f507",
   "metadata": {},
   "outputs": [],
   "source": [
    "snakemake.__dict__"
   ]
  },
  {
   "cell_type": "code",
   "execution_count": 3,
   "id": "b5cb09b4",
   "metadata": {},
   "outputs": [],
   "source": [
    "from pathlib import Path\n",
    "Path(\"./workflow/config/\" + snakemake.config[\"viz\"][\"stylefile\"]).resolve()"
   ]
  },
  {
   "cell_type": "code",
   "execution_count": 4,
   "id": "6bd4662b",
   "metadata": {},
   "outputs": [],
   "source": [
    "import pickle\n",
    "import pandas as pd\n",
    "import numpy as np\n",
    "#%matplotlib inline\n",
    "import matplotlib.pyplot as plt\n",
    "import matplotlib as mpl\n",
    "\n",
    "p = '/home/paulina/Documents/github/InsectNavigation-RL/v2/inverse/workflow/config/trajectory.mplstyle'\n",
    "plt.style.use(p)\n",
    "\n",
    "from cycler import cycler\n",
    "import seaborn as sns\n",
    "from scipy import interpolate\n",
    "\n",
    "scale = 1\n",
    "\n",
    "\n",
    "def draw_trajectory(df, ax):\n",
    "    x = df.path_x / scale\n",
    "    y = df.path_y / scale\n",
    "    ax.plot(x, y, alpha=0.75)\n",
    "    return ax\n",
    "\n",
    "    \n",
    "def df_interpolate(df, max_=5):\n",
    "    def per_df(d):\n",
    "        x = np.array(d['path_x'])\n",
    "        y = np.array(d['path_y'])\n",
    "\n",
    "        # remove two consecutive equal points for interpolation\n",
    "        okay = np.where(np.abs(np.diff(x)) + np.abs(np.diff(y)) > 0)\n",
    "        x = np.r_[x[okay], x[-1]]\n",
    "        y = np.r_[y[okay], y[-1]]\n",
    "\n",
    "        tck,u=interpolate.splprep([x,y],s=0.0)\n",
    "        x_i,y_i= interpolate.splev(np.linspace(0,1,(len(x)*10)),tck)\n",
    "\n",
    "        new_rows = d.iloc[-1].to_dict()\n",
    "        new_rows.update({'path_x' : x_i, 'path_y': y_i})\n",
    "        return pd.DataFrame(new_rows)\n",
    "    dfs = []\n",
    "    agents = set(df[\"ant_nb\"])\n",
    "    trials = set(df[\"trial_nb\"])\n",
    "    if len(trials) > max_:\n",
    "        trials = [arr[0] for arr in np.array_split(list(trials), max_)]\n",
    "    for agent in agents:\n",
    "        for trial in trials:\n",
    "            dfs.append(per_df(df[(df[\"ant_nb\"]==agent) & (df[\"trial_nb\"]==trial)]))\n",
    "    return pd.concat(dfs, ignore_index=True)\n"
   ]
  },
  {
   "cell_type": "code",
   "execution_count": 5,
   "id": "a87fb9f0",
   "metadata": {},
   "outputs": [],
   "source": [
    "%%capture\n",
    "raw, discrete, interpolated = snakemake.input # be sure this is correct\n",
    "df_raw = pd.read_csv(raw)\n",
    "df_discrete = pd.read_csv(discrete)\n",
    "df_interpolated = pd.read_csv(interpolated)"
   ]
  },
  {
   "cell_type": "code",
   "execution_count": 6,
   "id": "c4f12507",
   "metadata": {},
   "outputs": [],
   "source": [
    "#%matplotlib inline\n",
    "fig, ax = plt.subplots(1, 1, figsize=(10 ,10))\n",
    "for ant in [32]:#pd.unique(df[\"ant_nb\"]):\n",
    "    ant_df = df_interpolated[df_interpolated.ant_nb == ant]\n",
    "\n",
    "    for run in pd.unique(ant_df[\"trial_nb\"]):\n",
    "\n",
    "        traj = ant_df[ant_df.trial_nb == run]\n",
    "        draw_trajectory(traj, ax)\n",
    "\n",
    "plt.show()"
   ]
  },
  {
   "cell_type": "code",
   "execution_count": 7,
   "id": "f0863836",
   "metadata": {},
   "outputs": [],
   "source": [
    "import matplotlib.ticker as ticker\n",
    "\n",
    "\n",
    "def draw_trajectories(df, ants, axes=None, do_interpolation=False):\n",
    "    \n",
    "    if axes is None:\n",
    "        fig, axes = plt.subplots(max(1,len(ants) // 2),min(len(ants),2))\n",
    "    \n",
    "    if do_interpolation:\n",
    "        df = df_interpolate(df)\n",
    "        \n",
    "    for ant, ax in zip(ants, fig.axes):#pd.unique(df[\"ant_nb\"]):\n",
    "        ant_df = df[df.ant_nb == ant]\n",
    "        runs = pd.unique(ant_df[\"trial_nb\"])\n",
    "        spacing = np.linspace(0,1,len(runs))\n",
    "        colors = list(reversed([(x,x,0,1-x/3) for x in spacing]))        \n",
    "\n",
    "        for run, color in zip(runs, colors):\n",
    "\n",
    "            traj = ant_df[ant_df.trial_nb == run]\n",
    "            \n",
    "            hello = traj.plot(x=\"path_x\", y=\"path_y\", ax=ax, label=run, c=color)\n",
    "            traj.plot.scatter(x=\"path_x\", y=\"path_y\", ax=ax, color=color)\n",
    "        \n",
    "\n",
    "        ax.axis('equal')\n",
    "        ax.xaxis.set_major_locator(ticker.MultipleLocator(5))\n",
    "        ax.xaxis.set_minor_locator(ticker.MultipleLocator(1))\n",
    "        \n",
    "        ax.yaxis.set_major_locator(ticker.MultipleLocator(5))\n",
    "        ax.yaxis.set_minor_locator(ticker.MultipleLocator(1))\n",
    "        \n",
    "        ax.set_xlim(left=0)\n",
    "        \n",
    "        \n",
    "        #ax.set_aspect('equal')\n",
    "\n",
    "        ax.grid(which='both')\n",
    "            \n",
    "            #traj.rolling(3).mean().plot(x=\"path_x\", y=\"path_y\", ax=ax, c=color, label=\"mean\")"
   ]
  },
  {
   "cell_type": "code",
   "execution_count": 8,
   "id": "20eee418",
   "metadata": {
    "scrolled": false
   },
   "outputs": [],
   "source": [
    "draw_trajectories(df_raw, [32,33])\n",
    "#fig.tight_layout()\n",
    "plt.savefig(snakemake.output[0])"
   ]
  },
  {
   "cell_type": "code",
   "execution_count": 9,
   "id": "94ede5b6",
   "metadata": {
    "scrolled": false
   },
   "outputs": [],
   "source": [
    "draw_trajectories(df_discrete, [32,33])\n",
    "plt.savefig(snakemake.output[1])"
   ]
  },
  {
   "cell_type": "code",
   "execution_count": 10,
   "id": "901ddd3b",
   "metadata": {},
   "outputs": [],
   "source": [
    "draw_trajectories(df_interpolated, [32,33])\n",
    "plt.savefig(snakemake.output[2])"
   ]
  },
  {
   "cell_type": "code",
   "execution_count": 11,
   "id": "b1199e8b",
   "metadata": {},
   "outputs": [],
   "source": [
    "df_discrete"
   ]
  },
  {
   "cell_type": "code",
   "execution_count": 12,
   "id": "2cb78648",
   "metadata": {},
   "outputs": [],
   "source": [
    "df_interpolated"
   ]
  },
  {
   "cell_type": "code",
   "execution_count": 13,
   "id": "971ac12d",
   "metadata": {},
   "outputs": [],
   "source": [
    "#draw_trajectories(df_interpolate(df_interpolated), [32,33])"
   ]
  },
  {
   "cell_type": "code",
   "execution_count": 66,
   "id": "9368fabc",
   "metadata": {},
   "outputs": [],
   "source": [
    "def draw_bins(df, bins:tuple[int,int] =None):\n",
    "    if bins is None:\n",
    "        bins = (\n",
    "                len(pd.unique(df.path_x)),\n",
    "                len(pd.unique(df.path_x)) * int((df_raw.path_y.max() // df_raw.path_x.max()))    \n",
    "               )\n",
    "    print(bins)\n",
    "    \n",
    "    heatmap, xedges, yedges = np.histogram2d(df.path_x, df.path_y, bins=bins)\n",
    "\n",
    "    plt.figure()#figsize = (10,10))\n",
    "    plt.clf()\n",
    "    plt.imshow(heatmap.T, origin='lower', aspect='equal')"
   ]
  },
  {
   "cell_type": "code",
   "execution_count": 75,
   "id": "35ca2c25",
   "metadata": {},
   "outputs": [],
   "source": [
    "d = df_raw # df_raw[df_raw.ant_nb==33]\n",
    "#bins = (10, int(10 * (d.path_y.max() / d.path_x.max())))\n",
    "draw_bins(d, bins=(22,58))\n",
    "plt.savefig(snakemake.output[3])"
   ]
  },
  {
   "cell_type": "code",
   "execution_count": 74,
   "id": "157a95a4",
   "metadata": {},
   "outputs": [],
   "source": [
    "for ant in [32]:#,33,34]:#pd.unique(df_interpolated[\"ant_nb\"]):\n",
    "    ant_df = df_interpolated[df_interpolated.ant_nb == ant]\n",
    "    \n",
    "draw_bins(df_interpolated, bins=(22,58))\n",
    "plt.savefig(snakemake.output[4])"
   ]
  },
  {
   "cell_type": "code",
   "execution_count": 60,
   "id": "00ba0355",
   "metadata": {
    "scrolled": false
   },
   "outputs": [],
   "source": [
    "from collections import Counter\n",
    "from matplotlib import cm as CM\n",
    "\n",
    "\n",
    "fig, ax = plt.subplots(1, 1, figsize=(10 ,13))\n",
    "\n",
    "x = []\n",
    "y = []\n",
    "df = df_interpolated\n",
    "#for ant in pd.unique(df[\"ant_nb\"]):\n",
    "for ant in [32]:\n",
    "    ant_df = df[df.ant_nb == ant]\n",
    "    for run in pd.unique(ant_df[\"trial_nb\"]):\n",
    "        traj = ant_df[ant_df.trial_nb == run]\n",
    "        \n",
    "        draw_trajectory(df_interpolate(traj), ax)\n",
    "        x.extend(list(traj['path_x']))\n",
    "        y.extend(list(traj['path_y']))\n",
    "\n",
    "a = list(zip(x,y))\n",
    "frequency_list = Counter(a)\n",
    "z = [frequency_list[tup] for tup in a]\n",
    "\n",
    "gridsize=22\n",
    "\n",
    "extent = [np.array(x).min(), np.array(x).max(), np.array(y).min(), np.array(y).max()]\n",
    "plt.hexbin(x, y, gridsize=gridsize, cmap=CM.gnuplot2, bins=None, extent=extent)\n",
    "plt.axis(extent)\n",
    "#cb = PLT.colorbar()\n",
    "\n",
    "plt.savefig(snakemake.output[5])"
   ]
  },
  {
   "cell_type": "code",
   "execution_count": 85,
   "id": "4e270734",
   "metadata": {
    "scrolled": false
   },
   "outputs": [],
   "source": [
    "fig, ax = plt.subplots(1, 1, figsize=(10 ,13))\n",
    "\n",
    "x = []\n",
    "y = []\n",
    "df = df_interpolated\n",
    "\n",
    "for ant in [32]:#pd.unique(df[\"ant_nb\"]):\n",
    "    ant_df = df[df.ant_nb == ant]\n",
    "\n",
    "    for run in pd.unique(ant_df[\"trial_nb\"]):\n",
    "\n",
    "        traj = ant_df[ant_df.trial_nb == run].copy(deep=True)\n",
    "        \n",
    "        traj.path_x = traj['path_x'] - traj.path_x.min()\n",
    "        traj.path_y = traj['path_y'] - traj.path_y.min()\n",
    "        \n",
    "        draw_trajectory(df_interpolate(traj), ax)\n",
    "        x.extend(list(traj['path_x']))\n",
    "        y.extend(list(traj['path_y']))\n",
    "        \n",
    "\n",
    "heatmap, xedges, yedges = np.histogram2d(x, y, bins=(16,51))\n",
    "plt.imshow(heatmap.T, origin='lower')\n",
    "plt.savefig(snakemake.output[6])"
   ]
  },
  {
   "cell_type": "code",
   "execution_count": null,
   "id": "da291fcf",
   "metadata": {},
   "outputs": [],
   "source": []
  }
 ],
 "metadata": {
  "kernelspec": {
   "display_name": "Python 3 (ipykernel)",
   "language": "python",
   "name": "python3"
  },
  "language_info": {
   "codemirror_mode": {
    "name": "ipython",
    "version": 3
   },
   "file_extension": ".py",
   "mimetype": "text/x-python",
   "name": "python",
   "nbconvert_exporter": "python",
   "pygments_lexer": "ipython3",
   "version": "3.10.4"
  }
 },
 "nbformat": 4,
 "nbformat_minor": 5
}
