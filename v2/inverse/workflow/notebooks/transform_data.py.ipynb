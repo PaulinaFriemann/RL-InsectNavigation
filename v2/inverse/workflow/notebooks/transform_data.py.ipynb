{
 "cells": [
  {
   "cell_type": "code",
   "execution_count": 7,
   "id": "b52f1d77",
   "metadata": {},
   "outputs": [],
   "source": [
    "import pandas as pd\n",
    "import numpy as np\n",
    "\n",
    "\n",
    "df = pd.read_csv(snakemake.input[0])\n",
    "df"
   ]
  },
  {
   "cell_type": "code",
   "execution_count": 8,
   "id": "08fc023b",
   "metadata": {},
   "outputs": [],
   "source": [
    "# discretize to the first decimal\n",
    "df.path_x = np.floor(df.path_x * 10)\n",
    "df.path_y = np.floor(df.path_y * 10)\n",
    "df[[\"path_x\", \"path_y\"]] = df[[\"path_x\", \"path_y\"]].astype(int)\n",
    "df"
   ]
  },
  {
   "cell_type": "code",
   "execution_count": 9,
   "id": "97efe1a1",
   "metadata": {},
   "outputs": [],
   "source": [
    "# move the paths into the positive\n",
    "min_x = df.min().path_x\n",
    "min_y = df.min().path_y\n",
    "\n",
    "df.path_x -= min(0, min_x)\n",
    "df.path_y -= min(0, min_y)\n",
    "\n",
    "df"
   ]
  },
  {
   "cell_type": "code",
   "execution_count": null,
   "id": "4ae37cca",
   "metadata": {},
   "outputs": [],
   "source": [
    "df.to_csv(snakemake.output[0], index=False)"
   ]
  }
 ],
 "metadata": {
  "kernelspec": {
   "display_name": "Python 3 (ipykernel)",
   "language": "python",
   "name": "python3"
  },
  "language_info": {
   "codemirror_mode": {
    "name": "ipython",
    "version": 3
   },
   "file_extension": ".py",
   "mimetype": "text/x-python",
   "name": "python",
   "nbconvert_exporter": "python",
   "pygments_lexer": "ipython3",
   "version": "3.10.4"
  }
 },
 "nbformat": 4,
 "nbformat_minor": 5
}
