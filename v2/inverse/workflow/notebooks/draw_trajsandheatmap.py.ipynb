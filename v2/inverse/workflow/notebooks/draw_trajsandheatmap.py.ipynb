{
 "cells": [
  {
   "cell_type": "code",
   "execution_count": 2,
   "id": "3d46da1f",
   "metadata": {
    "scrolled": false
   },
   "outputs": [],
   "source": [
    "import pickle\n",
    "import matplotlib.pyplot as plt\n",
    "import pandas as pd\n",
    "import numpy as np\n",
    "from scipy import interpolate\n",
    "\n",
    "\n",
    "with open(snakemake.input[0], 'rb') as in_:\n",
    "    fig = pickle.load(in_)\n",
    "\n",
    "ax = plt.gca()"
   ]
  },
  {
   "cell_type": "code",
   "execution_count": 4,
   "id": "6fbd70c5",
   "metadata": {},
   "outputs": [],
   "source": [
    "%%capture\n",
    "df = pd.read_csv(snakemake.input[1])\n",
    "plt.clf()\n",
    "fig, ax = plt.subplots(1, 1, figsize=(10 ,13))\n",
    "plt.sca(ax)"
   ]
  },
  {
   "cell_type": "code",
   "execution_count": 5,
   "id": "94c00401",
   "metadata": {},
   "outputs": [],
   "source": [
    "scale = 1\n",
    "df = df[df.ant_nb == 32]\n",
    "\n",
    "def draw_trajectory(df, ax):\n",
    "    x = df.path_x / scale\n",
    "    y = df.path_y / scale\n",
    "    ax.plot(x, y, alpha=0.75)\n",
    "    return ax\n",
    "\n",
    "def df_interpolate(df, max_=5):\n",
    "    def per_df(d):\n",
    "        x = np.array(d['path_x'])\n",
    "        y = np.array(d['path_y'])\n",
    "\n",
    "        # remove two consecutive equal points for interpolation\n",
    "        okay = np.where(np.abs(np.diff(x)) + np.abs(np.diff(y)) > 0)\n",
    "        x = np.r_[x[okay], x[-1]]\n",
    "        y = np.r_[y[okay], y[-1]]\n",
    "\n",
    "        tck,u=interpolate.splprep([x,y],s=0.0)\n",
    "        x_i,y_i= interpolate.splev(np.linspace(0,1,(len(x)*10)),tck)\n",
    "\n",
    "        new_rows = d.iloc[-1].to_dict()\n",
    "        new_rows.update({'path_x' : x_i, 'path_y': y_i})\n",
    "        return pd.DataFrame(new_rows)\n",
    "    dfs = []\n",
    "    agents = set(df[\"ant_nb\"])\n",
    "    trials = set(df[\"trial_nb\"])\n",
    "    if len(trials) > max_:\n",
    "        trials = [arr[0] for arr in np.array_split(list(trials), max_)]\n",
    "    for agent in agents:\n",
    "        for trial in trials:\n",
    "            dfs.append(per_df(df[(df[\"ant_nb\"]==agent) & (df[\"trial_nb\"]==trial)]))\n",
    "    return pd.concat(dfs, ignore_index=True)\n"
   ]
  },
  {
   "cell_type": "code",
   "execution_count": 6,
   "id": "8f13b96a",
   "metadata": {},
   "outputs": [],
   "source": [
    "for ant in pd.unique(df[\"ant_nb\"]):\n",
    "    ant_df = df[df.ant_nb == ant]\n",
    "\n",
    "    for run in pd.unique(ant_df[\"trial_nb\"]):\n",
    "\n",
    "        traj = ant_df[ant_df.trial_nb == run].copy(deep=True)\n",
    "        \n",
    "        traj.path_x = traj['path_x'] - traj.path_x.min()\n",
    "        traj.path_y = traj['path_y'] - traj.path_y.min()\n",
    "        \n",
    "        draw_trajectory(df_interpolate(traj), ax)\n",
    "\n",
    "heatmap, xedges, yedges = np.histogram2d(df.path_x, df.path_y, bins=(16,51))\n",
    "ax.imshow(heatmap.T, origin='lower')\n",
    "#fig\n",
    "fig.savefig(snakemake.output[0])"
   ]
  }
 ],
 "metadata": {
  "kernelspec": {
   "display_name": "Python 3 (ipykernel)",
   "language": "python",
   "name": "python3"
  },
  "language_info": {
   "codemirror_mode": {
    "name": "ipython",
    "version": 3
   },
   "file_extension": ".py",
   "mimetype": "text/x-python",
   "name": "python",
   "nbconvert_exporter": "python",
   "pygments_lexer": "ipython3",
   "version": "3.10.4"
  }
 },
 "nbformat": 4,
 "nbformat_minor": 5
}
